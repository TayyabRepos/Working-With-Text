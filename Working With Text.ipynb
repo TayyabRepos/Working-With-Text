{
 "cells": [
  {
   "cell_type": "code",
   "execution_count": 3,
   "id": "7172204b",
   "metadata": {},
   "outputs": [
    {
     "data": {
      "text/plain": [
       "'Simple Text'"
      ]
     },
     "execution_count": 3,
     "metadata": {},
     "output_type": "execute_result"
    }
   ],
   "source": [
    "file = open('source.txt', mode='r')\n",
    "text = file.read()\n",
    "text"
   ]
  },
  {
   "cell_type": "code",
   "execution_count": 4,
   "id": "aeedb7cb",
   "metadata": {},
   "outputs": [
    {
     "data": {
      "text/plain": [
       "''"
      ]
     },
     "execution_count": 4,
     "metadata": {},
     "output_type": "execute_result"
    }
   ],
   "source": [
    "file.read() # File gonna read only once"
   ]
  },
  {
   "cell_type": "code",
   "execution_count": 12,
   "id": "d26789b3",
   "metadata": {},
   "outputs": [
    {
     "data": {
      "text/plain": [
       "False"
      ]
     },
     "execution_count": 12,
     "metadata": {},
     "output_type": "execute_result"
    }
   ],
   "source": [
    "file.closed #File connection is not close can be altered not a good practice to keep it open after using it"
   ]
  },
  {
   "cell_type": "code",
   "execution_count": 14,
   "id": "e9f629ba",
   "metadata": {},
   "outputs": [],
   "source": [
    "file.close() # To close connection"
   ]
  },
  {
   "cell_type": "code",
   "execution_count": 15,
   "id": "ea4a0d3e",
   "metadata": {},
   "outputs": [
    {
     "data": {
      "text/plain": [
       "True"
      ]
     },
     "execution_count": 15,
     "metadata": {},
     "output_type": "execute_result"
    }
   ],
   "source": [
    "file.closed"
   ]
  },
  {
   "cell_type": "code",
   "execution_count": null,
   "id": "9a7ba8b2",
   "metadata": {},
   "outputs": [],
   "source": []
  }
 ],
 "metadata": {
  "kernelspec": {
   "display_name": "Python 3 (ipykernel)",
   "language": "python",
   "name": "python3"
  },
  "language_info": {
   "codemirror_mode": {
    "name": "ipython",
    "version": 3
   },
   "file_extension": ".py",
   "mimetype": "text/x-python",
   "name": "python",
   "nbconvert_exporter": "python",
   "pygments_lexer": "ipython3",
   "version": "3.11.3"
  }
 },
 "nbformat": 4,
 "nbformat_minor": 5
}
