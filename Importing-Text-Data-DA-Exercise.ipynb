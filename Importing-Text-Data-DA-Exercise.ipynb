{
 "cells": [
  {
   "attachments": {},
   "cell_type": "markdown",
   "metadata": {},
   "source": [
    "## Importing Data with NumPy"
   ]
  },
  {
   "attachments": {},
   "cell_type": "markdown",
   "metadata": {},
   "source": [
    "### 1. Run the following cells:"
   ]
  },
  {
   "cell_type": "code",
   "execution_count": 2,
   "metadata": {},
   "outputs": [],
   "source": [
    "import numpy as np"
   ]
  },
  {
   "cell_type": "code",
   "execution_count": 3,
   "metadata": {},
   "outputs": [],
   "source": [
    "np.set_printoptions(suppress = True, linewidth = 150)"
   ]
  },
  {
   "attachments": {},
   "cell_type": "markdown",
   "metadata": {},
   "source": [
    "### 2. Use loadtxt() to import the same file and display its contents. \n",
    "   <b> Hint:</b> By default np.loadtxt() asusmes all the values will be numeric, so it crashes when it encounters text data. We can bypass this by specifying the datatype to NumPy strings when importing. "
   ]
  },
  {
   "cell_type": "code",
   "execution_count": 7,
   "metadata": {},
   "outputs": [],
   "source": [
    "lending_data1 = np.loadtxt('Lending-Company-Numeric-Data-NAN.csv',dtype=str)\n"
   ]
  },
  {
   "cell_type": "code",
   "execution_count": 8,
   "metadata": {},
   "outputs": [
    {
     "data": {
      "text/plain": [
       "array(['2000;40;365;3121;4241;13621', '2000;40;365;3061;4171;15041', '1000;40;365;2160;3280;15340', ..., ';40;365;4201;5001;16600',\n",
       "       '1000;40;365;2080;3320;15600', '2000;40;365;4601;4601;16600'], dtype='<U30')"
      ]
     },
     "execution_count": 8,
     "metadata": {},
     "output_type": "execute_result"
    }
   ],
   "source": [
    "lending_data1"
   ]
  },
  {
   "attachments": {},
   "cell_type": "markdown",
   "metadata": {},
   "source": [
    "### 3. Use np.genfromtxt() to import the \"Lending-Company-Total-Price.csv\" file and display its contents.\n",
    "    You can open the file in a text editor like Notepad++ to check its delimiter. "
   ]
  },
  {
   "cell_type": "code",
   "execution_count": 11,
   "metadata": {},
   "outputs": [
    {
     "data": {
      "text/plain": [
       "array([[   nan,    nan,    nan, ...,    nan,    nan,    nan],\n",
       "       [    1.,    nan,    nan, ...,  4166., 14621.,    nan],\n",
       "       [    2.,    nan,    nan, ...,  4096., 16041.,    nan],\n",
       "       ...,\n",
       "       [ 1041.,    nan,    nan, ...,  5143., 16617.,    nan],\n",
       "       [ 1042.,    nan,    nan, ...,  3462., 15617.,    nan],\n",
       "       [ 1043.,    nan,    nan, ...,  4743., 16617.,    nan]])"
      ]
     },
     "execution_count": 11,
     "metadata": {},
     "output_type": "execute_result"
    }
   ],
   "source": [
    "Lending_company = np.genfromtxt('Lending-company.csv', delimiter=',')\n",
    "Lending_company"
   ]
  },
  {
   "cell_type": "code",
   "execution_count": null,
   "metadata": {},
   "outputs": [],
   "source": []
  },
  {
   "attachments": {},
   "cell_type": "markdown",
   "metadata": {},
   "source": [
    "### 4. Using the arguments of the np.genfromtxt() function, do the following data cleaning:\n",
    "    A) Set the data type to strings. \n",
    "    B) Skip the first row of the dataset. \n",
    "    C) Skip the last 15 rows of the dataset. \n",
    "    D) Only pull data from the 2nd, 3rd and 5th columns. \n",
    "   (Note: You can do all of these at the same time.)"
   ]
  },
  {
   "cell_type": "code",
   "execution_count": 19,
   "metadata": {},
   "outputs": [
    {
     "data": {
      "text/plain": [
       "array([[   nan,    nan,    nan, ...,    nan,    nan,    nan],\n",
       "       [    1.,    nan,    nan, ...,  4166., 14621.,    nan],\n",
       "       [    2.,    nan,    nan, ...,  4096., 16041.,    nan],\n",
       "       ...,\n",
       "       [ 1041.,    nan,    nan, ...,  5143., 16617.,    nan],\n",
       "       [ 1042.,    nan,    nan, ...,  3462., 15617.,    nan],\n",
       "       [ 1043.,    nan,    nan, ...,  4743., 16617.,    nan]])"
      ]
     },
     "execution_count": 19,
     "metadata": {},
     "output_type": "execute_result"
    }
   ],
   "source": [
    "Lending_company = np.genfromtxt('Lending-company.csv', \n",
    "                                delimiter=',',\n",
    "                               missing_values = ['nan']\n",
    "                                )\n",
    "Lending_company"
   ]
  },
  {
   "attachments": {},
   "cell_type": "markdown",
   "metadata": {},
   "source": [
    "### 5. Refer to the documentation of the np.genfromtxt() function and examine the following arguments and what they do:\n",
    "    A) comments:The character used to indicate the start of a comment. All the characters occurring on a line after a comment are discarded.\n",
    "    B) converters:The set of functions that convert the data of a column to a value. The converters can also be used to provide a default value for missing data: converters = {3: lambda s: float(s or 0)}.\n",
    "    C) missing_values:The set of strings corresponding to missing data.\n",
    "    D) excludelist:A list of names to exclude. This list is appended to the default list [‘return’,’file’,’print’]. Excluded names are appended with an underscore: for example, file would become file_.\n",
    "    E) deletechars :A string combining invalid characters that must be deleted from the names.\n",
    "    D) replace_space:Character(s) used in replacement of white spaces in the variable names. By default, use a ‘_’.\n",
    "    E) autostrip: Whether to automatically strip white spaces from the variables.\n",
    "\n",
    "   (You're <b>not</b> expected to provide any coding for this part. The cell below is provided for your convenience in case you want to try using the arguments as you go through them.)"
   ]
  },
  {
   "cell_type": "code",
   "execution_count": 15,
   "metadata": {},
   "outputs": [
    {
     "data": {
      "text/plain": [
       "array([['Product B', 'Female', 'Region 2'],\n",
       "       ['Product D', 'Female', 'Region 6'],\n",
       "       ['Product B', 'Male', 'Region 3'],\n",
       "       ...,\n",
       "       ['Product B', 'Female', 'Region 6'],\n",
       "       ['Product A', 'Female', 'Region 1'],\n",
       "       ['Product D', 'Male', 'Region 4']], dtype='<U12')"
      ]
     },
     "execution_count": 15,
     "metadata": {},
     "output_type": "execute_result"
    }
   ],
   "source": [
    "Lending_company = np.genfromtxt('Lending-company.csv', \n",
    "                                delimiter=',',\n",
    "                                dtype=str,\n",
    "                                skip_header=1,\n",
    "                                skip_footer=15,\n",
    "                                usecols=(2,3,5),\n",
    "                                missing_values = ['nan']\n",
    "                                )\n",
    "Lending_company"
   ]
  },
  {
   "attachments": {},
   "cell_type": "markdown",
   "metadata": {},
   "source": [
    "### 6. Now that you understand what these arguments do, add them to the code you wrote a few cells ago. \n",
    "    A) comments\n",
    "    B) converters \n",
    "    C) missing_values\n",
    "    D) excludelist\n",
    "    E) deletechars\n",
    "    D) replace_space \n",
    "    E) autostrip\n",
    "   <b>Note</b>: If you don't know what values to set, just refer to the documentation and set the defaults. "
   ]
  },
  {
   "cell_type": "code",
   "execution_count": null,
   "metadata": {},
   "outputs": [],
   "source": []
  },
  {
   "attachments": {},
   "cell_type": "markdown",
   "metadata": {},
   "source": [
    "### 7. The first and last columns were the only ones with numeric data, so let's import only them."
   ]
  },
  {
   "cell_type": "code",
   "execution_count": 26,
   "metadata": {},
   "outputs": [],
   "source": [
    "Lending_company = np.genfromtxt('Lending-company.csv', \n",
    "                                delimiter=',',\n",
    "                                usecols=(0,1,-1,-2),\n",
    "                                missing_values='nan'\n",
    "                                )\n"
   ]
  },
  {
   "cell_type": "code",
   "execution_count": null,
   "metadata": {},
   "outputs": [],
   "source": []
  },
  {
   "cell_type": "code",
   "execution_count": null,
   "metadata": {},
   "outputs": [],
   "source": []
  }
 ],
 "metadata": {
  "kernelspec": {
   "display_name": "Python 3",
   "language": "python",
   "name": "python3"
  },
  "language_info": {
   "codemirror_mode": {
    "name": "ipython",
    "version": 3
   },
   "file_extension": ".py",
   "mimetype": "text/x-python",
   "name": "python",
   "nbconvert_exporter": "python",
   "pygments_lexer": "ipython3",
   "version": "3.11.3"
  }
 },
 "nbformat": 4,
 "nbformat_minor": 2
}
